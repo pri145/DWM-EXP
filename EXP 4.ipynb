{
 "cells": [
  {
   "cell_type": "code",
   "execution_count": null,
   "id": "76fe1cf3",
   "metadata": {},
   "outputs": [],
   "source": [
    "import numpy as np\n",
    "import matplotlib.pyplot as plt\n",
    "from sklearn.cluster import KMeans, AgglomerativeClustering\n",
    "from sklearn.datasets import make_blobs\n",
    "from scipy.cluster.hierarchy import dendrogram, linkage\n",
    "\n",
    "X, _ = make_blobs(n_samples=300, centers=4, cluster_std=1.0, random_state=42)\n",
    "\n",
    "kmeans = KMeans(n_clusters=4, random_state=42)\n",
    "kmeans_labels = kmeans.fit_predict(X)\n",
    "\n",
    "plt.figure(figsize=(12, 5))\n",
    "plt.subplot(1, 2, 1)\n",
    "plt.scatter(X[:, 0], X[:, 1], c=kmeans_labels, cmap='viridis', edgecolors='k')\n",
    "plt.scatter(kmeans.cluster_centers_[:, 0],\n",
    "kmeans.cluster_centers_[:, 1], s=200, c='red', marker='X')\n",
    "plt.title(\"K-Means Clustering\")\n",
    "\n",
    "agglo = AgglomerativeClustering(n_clusters=4)\n",
    "agglo_labels = agglo.fit_predict(X)\n",
    "\n",
    "plt.subplot(1, 2, 2)\n",
    "plt.scatter(X[:, 0], X[:, 1], c=agglo_labels,\n",
    "cmap='viridis', edgecolors='k')\n",
    "plt.title(\"Agglomerative Clustering\")\n",
    "plt.show()\n",
    "\n",
    "linked = linkage(X, method='ward')\n",
    "plt.figure(figsize=(10, 5))\n",
    "\n",
    "dendrogram(linked)\n",
    "plt.title(\"Dendrogram\")\n",
    "plt.show()"
   ]
  }
 ],
 "metadata": {
  "kernelspec": {
   "display_name": "Python 3",
   "language": "python",
   "name": "python3"
  },
  "language_info": {
   "codemirror_mode": {
    "name": "ipython",
    "version": 3
   },
   "file_extension": ".py",
   "mimetype": "text/x-python",
   "name": "python",
   "nbconvert_exporter": "python",
   "pygments_lexer": "ipython3",
   "version": "3.11.9"
  }
 },
 "nbformat": 4,
 "nbformat_minor": 5
}
