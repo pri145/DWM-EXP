{
 "cells": [
  {
   "cell_type": "code",
   "execution_count": null,
   "id": "7fb570a3",
   "metadata": {},
   "outputs": [],
   "source": [
    "import pandas as pd\n",
    "\n",
    "data = {\n",
    "    'Year': ['2022', '2022', '2022', '2023', '2023', '2023'],\n",
    "    'Quarter': ['Q1', 'Q2', 'Q3', 'Q1', 'Q2', 'Q3'],\n",
    "    'Region': ['Asia', 'Europe', 'Asia', 'Europe', 'Asia', 'Europe'],\n",
    "    'Product': ['Laptop', 'Laptop', 'Mobile', 'Mobile', 'Laptop', 'Mobile'],\n",
    "    'Sales': [200, 150, 300, 250, 400, 100]\n",
    "}\n",
    "df =pd.DataFrame(data)\n",
    "print(\"Original Data:\")\n",
    "print(df)\n",
    "\n",
    "slice_df = df[df['Year'] == '2023']\n",
    "print(\"\\nSlice Operation (Year = 2023):\")\n",
    "print(slice_df)\n",
    "\n",
    "dice_df = df[(df['Year'].isin(['2022', '2023'])) & (df['Region'] == 'Asia')]\n",
    "print(\"\\nDice Operation (Year in ['2022', '2023'] AND Region = 'Asia'):\")\n",
    "print(dice_df)\n",
    "\n",
    "rollup_df = df.groupby('Year')['Sales'].sum().reset_index()\n",
    "print(\"\\nRoll-up Operation (Sales by Year):\")\n",
    "print(rollup_df)\n",
    "\n",
    "drilldown_df = df.groupby(['Year', 'Quarter'])['Sales'].sum().reset_index()\n",
    "print(\"\\nDrill-down Operation (Sales by Year and Quarter):\")\n",
    "print(drilldown_df)\n",
    "\n",
    "pivot_df = pd.pivot_table(df, values='Sales', index='Product', columns='Region',\n",
    "aggfunc='sum')\n",
    "print(\"\\nPivot Operation (Product vs Region):\")\n",
    "print(pivot_df)"
   ]
  }
 ],
 "metadata": {
  "kernelspec": {
   "display_name": "Python 3",
   "language": "python",
   "name": "python3"
  },
  "language_info": {
   "name": "python",
   "version": "3.11.9"
  }
 },
 "nbformat": 4,
 "nbformat_minor": 5
}
