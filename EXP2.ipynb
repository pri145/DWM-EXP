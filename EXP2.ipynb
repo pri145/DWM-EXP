{
 "cells": [
  {
   "cell_type": "code",
   "execution_count": 1,
   "id": "7fb570a3",
   "metadata": {},
   "outputs": [
    {
     "name": "stdout",
     "output_type": "stream",
     "text": [
      "Original Data:\n",
      "   Year Quarter  Region Product  Sales\n",
      "0  2022      Q1    Asia  Laptop    200\n",
      "1  2022      Q2  Europe  Laptop    150\n",
      "2  2022      Q3    Asia  Mobile    300\n",
      "3  2023      Q1  Europe  Mobile    250\n",
      "4  2023      Q2    Asia  Laptop    400\n",
      "5  2023      Q3  Europe  Mobile    100\n",
      "\n",
      "Slice Operation (Year = 2023):\n",
      "   Year Quarter  Region Product  Sales\n",
      "3  2023      Q1  Europe  Mobile    250\n",
      "4  2023      Q2    Asia  Laptop    400\n",
      "5  2023      Q3  Europe  Mobile    100\n",
      "\n",
      "Dice Operation (Year in ['2022', '2023'] AND Region = 'Asia'):\n",
      "   Year Quarter Region Product  Sales\n",
      "0  2022      Q1   Asia  Laptop    200\n",
      "2  2022      Q3   Asia  Mobile    300\n",
      "4  2023      Q2   Asia  Laptop    400\n",
      "\n",
      "Roll-up Operation (Sales by Year):\n",
      "   Year  Sales\n",
      "0  2022    650\n",
      "1  2023    750\n",
      "\n",
      "Drill-down Operation (Sales by Year and Quarter):\n",
      "   Year Quarter  Sales\n",
      "0  2022      Q1    200\n",
      "1  2022      Q2    150\n",
      "2  2022      Q3    300\n",
      "3  2023      Q1    250\n",
      "4  2023      Q2    400\n",
      "5  2023      Q3    100\n",
      "\n",
      "Pivot Operation (Product vs Region):\n",
      "Region   Asia  Europe\n",
      "Product              \n",
      "Laptop    600     150\n",
      "Mobile    300     350\n"
     ]
    }
   ],
   "source": [
    "import pandas as pd\n",
    "\n",
    "data = {\n",
    "    'Year': ['2022', '2022', '2022', '2023', '2023', '2023'],\n",
    "    'Quarter': ['Q1', 'Q2', 'Q3', 'Q1', 'Q2', 'Q3'],\n",
    "    'Region': ['Asia', 'Europe', 'Asia', 'Europe', 'Asia', 'Europe'],\n",
    "    'Product': ['Laptop', 'Laptop', 'Mobile', 'Mobile', 'Laptop', 'Mobile'],\n",
    "    'Sales': [200, 150, 300, 250, 400, 100]\n",
    "}\n",
    "df =pd.DataFrame(data)\n",
    "print(\"Original Data:\")\n",
    "print(df)\n",
    "\n",
    "slice_df = df[df['Year'] == '2023']\n",
    "print(\"\\nSlice Operation (Year = 2023):\")\n",
    "print(slice_df)\n",
    "\n",
    "dice_df = df[(df['Year'].isin(['2022', '2023'])) & (df['Region'] == 'Asia')]\n",
    "print(\"\\nDice Operation (Year in ['2022', '2023'] AND Region = 'Asia'):\")\n",
    "print(dice_df)\n",
    "\n",
    "rollup_df = df.groupby('Year')['Sales'].sum().reset_index()\n",
    "print(\"\\nRoll-up Operation (Sales by Year):\")\n",
    "print(rollup_df)\n",
    "\n",
    "drilldown_df = df.groupby(['Year', 'Quarter'])['Sales'].sum().reset_index()\n",
    "print(\"\\nDrill-down Operation (Sales by Year and Quarter):\")\n",
    "print(drilldown_df)\n",
    "\n",
    "pivot_df = pd.pivot_table(df, values='Sales', index='Product', columns='Region',\n",
    "aggfunc='sum')\n",
    "print(\"\\nPivot Operation (Product vs Region):\")\n",
    "print(pivot_df)"
   ]
  }
 ],
 "metadata": {
  "kernelspec": {
   "display_name": "Python 3",
   "language": "python",
   "name": "python3"
  },
  "language_info": {
   "codemirror_mode": {
    "name": "ipython",
    "version": 3
   },
   "file_extension": ".py",
   "mimetype": "text/x-python",
   "name": "python",
   "nbconvert_exporter": "python",
   "pygments_lexer": "ipython3",
   "version": "3.11.9"
  }
 },
 "nbformat": 4,
 "nbformat_minor": 5
}
