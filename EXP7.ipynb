{
 "cells": [
  {
   "cell_type": "code",
   "execution_count": null,
   "id": "17f656fc",
   "metadata": {},
   "outputs": [],
   "source": [
    "import pandas as pd\n",
    "import numpy as np\n",
    "import matplotlib.pyplot as plt\n",
    "import seaborn as sns\n",
    "data = {\n",
    "    'Age': [18, 22, 25, 27, 30, 34, 37, 41, 45, 50, 54, 60, 67, 70, 75]\n",
    "}\n",
    "df = pd.DataFrame(data)\n",
    "\n",
    "plt.figure(figsize=(10, 4))\n",
    "sns.histplot(df['Age'], kde=True, bins=10, color='steelblue', edgecolor='black')\n",
    "plt.title(\"Original Distribution of 'Age'\")\n",
    "plt.xlabel(\"Age\")\n",
    "plt.ylabel(\"Frequency\")\n",
    "plt.grid(True)\n",
    "plt.show()\n",
    "\n",
    "num_bins = 4\n",
    "bin_labels = [f'Bin{i+1}' for i in range(num_bins)]\n",
    "df['Age_Binned'] = pd.cut(df['Age'], bins=num_bins, labels=bin_labels)\n",
    "print(\"\\n== Discretized Data (Equal Width Bins) ==\\n\")\n",
    "print(df)\n",
    "\n",
    "plt.figure(figsize=(8, 4))\n",
    "sns.countplot(x='Age_Binned', data=df, palette='Set2', edgecolor='black')\n",
    "plt.title(\"Data After Equal Width Discretization\", fontsize=14)\n",
    "plt.xlabel(\"Bins\", fontsize=12)\n",
    "plt.ylabel(\"Count\", fontsize=12)\n",
    "plt.xticks(fontsize=11)\n",
    "plt.yticks(fontsize=11)\n",
    "plt.box(False)\n",
    "plt.tight_layout()\n",
    "plt.show()\n",
    "\n",
    "fig, axs = plt.subplots(1, 2, figsize=(14, 5))\n",
    "sns.histplot(df['Age'], kde=True, bins=10, color='skyblue', edgecolor='black',\n",
    "ax=axs[0])\n",
    "axs[0].set_title('Original Continuous Data')\n",
    "axs[0].set_xlabel('Age')\n",
    "axs[0].set_ylabel('Frequency')\n",
    "axs[0].grid(True)\n",
    "\n",
    "sns.countplot(x='Age_Binned', data=df, palette='pastel', edgecolor='black',\n",
    "ax=axs[1])\n",
    "axs[1].set_title('Discretized Data (Equal Width)')\n",
    "axs[1].set_xlabel('Bins')\n",
    "axs[1].set_ylabel('Count')\n",
    "axs[1].grid(True)"
   ]
  }
 ],
 "metadata": {
  "language_info": {
   "name": "python"
  }
 },
 "nbformat": 4,
 "nbformat_minor": 5
}
