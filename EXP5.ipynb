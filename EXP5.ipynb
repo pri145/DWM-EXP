{
 "cells": [
  {
   "cell_type": "code",
   "execution_count": null,
   "id": "14bbc88b",
   "metadata": {},
   "outputs": [],
   "source": [
    "from mlxtend.frequent_patterns import apriori, association_rules\n",
    "import pandas as pd\n",
    "\n",
    "dataset = [\n",
    "    ['Milk', 'Bread', 'Nutella'],\n",
    "    ['Milk', 'Diaper', 'Beer', 'Eggs'],\n",
    "    ['Milk', 'Bread', 'Diaper', 'Beer'],\n",
    "    ['Bread', 'Diaper', 'Beer'],\n",
    "    ['Milk', 'Bread', 'Diaper', 'Nutella']\n",
    "]\n",
    "\n",
    "items = sorted(set(item for transaction in dataset for item in transaction))\n",
    "df = pd.DataFrame([{item: (item in transaction) for item in items} for transaction in dataset])\n",
    "\n",
    "min_support = 0.5\n",
    "frequent_itemsets = apriori(df, min_support=min_support, use_colnames=True)\n",
    "\n",
    "min_confidence = 0.7\n",
    "rules = association_rules(frequent_itemsets, metric=\"confidence\", min_threshold=min_confidence)\n",
    "\n",
    "print(\"Frequent Itemsets:\")\n",
    "print(frequent_itemsets)\n",
    "print(\"\\nAssociation Rules:\")\n",
    "print(rules[['antecedents', 'consequents', 'support', 'confidence', 'lift']])"
   ]
  }
 ],
 "metadata": {
  "language_info": {
   "name": "python"
  }
 },
 "nbformat": 4,
 "nbformat_minor": 5
}
